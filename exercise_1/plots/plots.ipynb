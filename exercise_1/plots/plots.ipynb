{
 "cells": [
  {
   "cell_type": "code",
   "execution_count": 1,
   "metadata": {},
   "outputs": [],
   "source": [
    "import matplotlib.pyplot as plt\n",
    "import pandas as pd"
   ]
  },
  {
   "cell_type": "code",
   "execution_count": 4,
   "metadata": {},
   "outputs": [
    {
     "data": {
      "text/html": [
       "<div>\n",
       "<style scoped>\n",
       "    .dataframe tbody tr th:only-of-type {\n",
       "        vertical-align: middle;\n",
       "    }\n",
       "\n",
       "    .dataframe tbody tr th {\n",
       "        vertical-align: top;\n",
       "    }\n",
       "\n",
       "    .dataframe thead th {\n",
       "        text-align: right;\n",
       "    }\n",
       "</style>\n",
       "<table border=\"1\" class=\"dataframe\">\n",
       "  <thead>\n",
       "    <tr style=\"text-align: right;\">\n",
       "      <th></th>\n",
       "      <th>size</th>\n",
       "      <th>steps</th>\n",
       "      <th>evolution</th>\n",
       "      <th>processor number</th>\n",
       "      <th>thread number</th>\n",
       "      <th>total time</th>\n",
       "      <th>evolution time</th>\n",
       "      <th>average propagation time</th>\n",
       "    </tr>\n",
       "  </thead>\n",
       "  <tbody>\n",
       "    <tr>\n",
       "      <th>0</th>\n",
       "      <td>1000</td>\n",
       "      <td>1000</td>\n",
       "      <td>1</td>\n",
       "      <td>1</td>\n",
       "      <td>1</td>\n",
       "      <td>72635616</td>\n",
       "      <td>72632154</td>\n",
       "      <td>7</td>\n",
       "    </tr>\n",
       "    <tr>\n",
       "      <th>1</th>\n",
       "      <td>1000</td>\n",
       "      <td>1000</td>\n",
       "      <td>1</td>\n",
       "      <td>1</td>\n",
       "      <td>2</td>\n",
       "      <td>36536630</td>\n",
       "      <td>36534854</td>\n",
       "      <td>7</td>\n",
       "    </tr>\n",
       "    <tr>\n",
       "      <th>2</th>\n",
       "      <td>1000</td>\n",
       "      <td>1000</td>\n",
       "      <td>1</td>\n",
       "      <td>1</td>\n",
       "      <td>4</td>\n",
       "      <td>18318647</td>\n",
       "      <td>18317337</td>\n",
       "      <td>7</td>\n",
       "    </tr>\n",
       "    <tr>\n",
       "      <th>3</th>\n",
       "      <td>1000</td>\n",
       "      <td>1000</td>\n",
       "      <td>1</td>\n",
       "      <td>1</td>\n",
       "      <td>8</td>\n",
       "      <td>9218737</td>\n",
       "      <td>9217823</td>\n",
       "      <td>15</td>\n",
       "    </tr>\n",
       "    <tr>\n",
       "      <th>4</th>\n",
       "      <td>1000</td>\n",
       "      <td>1000</td>\n",
       "      <td>1</td>\n",
       "      <td>1</td>\n",
       "      <td>16</td>\n",
       "      <td>4652385</td>\n",
       "      <td>4651514</td>\n",
       "      <td>19</td>\n",
       "    </tr>\n",
       "    <tr>\n",
       "      <th>5</th>\n",
       "      <td>1000</td>\n",
       "      <td>1000</td>\n",
       "      <td>1</td>\n",
       "      <td>1</td>\n",
       "      <td>32</td>\n",
       "      <td>2367646</td>\n",
       "      <td>2366288</td>\n",
       "      <td>21</td>\n",
       "    </tr>\n",
       "    <tr>\n",
       "      <th>6</th>\n",
       "      <td>1000</td>\n",
       "      <td>1000</td>\n",
       "      <td>1</td>\n",
       "      <td>1</td>\n",
       "      <td>64</td>\n",
       "      <td>1302963</td>\n",
       "      <td>1300866</td>\n",
       "      <td>24</td>\n",
       "    </tr>\n",
       "  </tbody>\n",
       "</table>\n",
       "</div>"
      ],
      "text/plain": [
       "   size  steps  evolution  processor number  thread number  total time  \\\n",
       "0  1000   1000          1                 1              1    72635616   \n",
       "1  1000   1000          1                 1              2    36536630   \n",
       "2  1000   1000          1                 1              4    18318647   \n",
       "3  1000   1000          1                 1              8     9218737   \n",
       "4  1000   1000          1                 1             16     4652385   \n",
       "5  1000   1000          1                 1             32     2367646   \n",
       "6  1000   1000          1                 1             64     1302963   \n",
       "\n",
       "   evolution time  average propagation time  \n",
       "0        72632154                         7  \n",
       "1        36534854                         7  \n",
       "2        18317337                         7  \n",
       "3         9217823                        15  \n",
       "4         4651514                        19  \n",
       "5         2366288                        21  \n",
       "6         1300866                        24  "
      ]
     },
     "execution_count": 4,
     "metadata": {},
     "output_type": "execute_result"
    }
   ],
   "source": [
    "openMP = pd.read_csv(\"openMP.csv\")\n",
    "\n",
    "openMP"
   ]
  },
  {
   "cell_type": "code",
   "execution_count": 22,
   "metadata": {},
   "outputs": [
    {
     "data": {
      "text/plain": [
       "[<matplotlib.axis.XTick at 0x2e0001c4b90>,\n",
       " <matplotlib.axis.XTick at 0x2e0001d0090>,\n",
       " <matplotlib.axis.XTick at 0x2e00019d990>,\n",
       " <matplotlib.axis.XTick at 0x2e0001f2d50>,\n",
       " <matplotlib.axis.XTick at 0x2e000201150>,\n",
       " <matplotlib.axis.XTick at 0x2e0002034d0>,\n",
       " <matplotlib.axis.XTick at 0x2e0002057d0>]"
      ]
     },
     "execution_count": 22,
     "metadata": {},
     "output_type": "execute_result"
    },
    {
     "data": {
      "image/png": "[encoded data removed]",
      "text/plain": [
       "<Figure size 900x400 with 1 Axes>"
      ]
     },
     "metadata": {},
     "output_type": "display_data"
    }
   ],
   "source": [
    "fig, ax = plt.subplots(figsize=(9, 4))\n",
    "\n",
    "ax.plot(openMP[\"thread number\"],openMP[\"evolution time\"]/10**6)\n",
    "ax.set_xlabel(\"number of threads\")\n",
    "ax.set_ylabel(\"time (seconds)\")\n",
    "ax.set_title(\"OpenMP scalability\")\n",
    "ax.set_xticks(openMP[\"thread number\"])"
   ]
  },
  {
   "cell_type": "code",
   "execution_count": 10,
   "metadata": {},
   "outputs": [
    {
     "data": {
      "text/plain": [
       "0    72.632154\n",
       "1    36.534854\n",
       "2    18.317337\n",
       "3     9.217823\n",
       "4     4.651514\n",
       "5     2.366288\n",
       "6     1.300866\n",
       "Name: evolution time, dtype: float64"
      ]
     },
     "execution_count": 10,
     "metadata": {},
     "output_type": "execute_result"
    }
   ],
   "source": [
    "openMP[\"evolution time\"]/10**6"
   ]
  }
 ],
 "metadata": {
  "kernelspec": {
   "display_name": "base",
   "language": "python",
   "name": "python3"
  },
  "language_info": {
   "codemirror_mode": {
    "name": "ipython",
    "version": 3
   },
   "file_extension": ".py",
   "mimetype": "text/x-python",
   "name": "python",
   "nbconvert_exporter": "python",
   "pygments_lexer": "ipython3",
   "version": "3.11.4"
  },
  "orig_nbformat": 4
 },
 "nbformat": 4,
 "nbformat_minor": 2
}
